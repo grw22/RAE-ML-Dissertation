{
 "cells": [
  {
   "cell_type": "markdown",
   "metadata": {},
   "source": [
    "# Pulling footballer dates of birth from Wiki"
   ]
  },
  {
   "cell_type": "markdown",
   "metadata": {},
   "source": []
  },
  {
   "cell_type": "code",
   "execution_count": 2,
   "metadata": {},
   "outputs": [
    {
     "name": "stderr",
     "output_type": "stream",
     "text": [
      "/var/folders/fs/2pw0dc014ls93dt5yfjzx6w00000gn/T/ipykernel_89197/1794203510.py:55: SettingWithCopyWarning: \n",
      "A value is trying to be set on a copy of a slice from a DataFrame\n",
      "\n",
      "See the caveats in the documentation: https://pandas.pydata.org/pandas-docs/stable/user_guide/indexing.html#returning-a-view-versus-a-copy\n",
      "  df_filtered.drop(columns=['Age'], inplace=True)\n"
     ]
    }
   ],
   "source": [
    "import pandas as pd\n",
    "from SPARQLWrapper import SPARQLWrapper, JSON\n",
    "from datetime import datetime\n",
    "\n",
    "def fetch_dob(name):\n",
    "    # Define the endpoint and query\n",
    "    endpoint_url = \"https://query.wikidata.org/sparql\"\n",
    "    query = f\"\"\"\n",
    "    SELECT ?dob WHERE {{\n",
    "      ?person wdt:P31 wd:Q5; # instance of human\n",
    "              wdt:P106 wd:Q937857; # occupation: association football player\n",
    "              wdt:P569 ?dob; # date of birth\n",
    "              rdfs:label \"{name}\"@en. # name of the footballer\n",
    "    }}\n",
    "    LIMIT 1\n",
    "    \"\"\"\n",
    "    \n",
    "    # Initialize the SPARQL wrapper\n",
    "    sparql = SPARQLWrapper(endpoint_url)\n",
    "    sparql.setQuery(query)\n",
    "    sparql.setReturnFormat(JSON)\n",
    "    \n",
    "    # Execute the query and parse the results\n",
    "    try:\n",
    "        results = sparql.query().convert()\n",
    "        if results[\"results\"][\"bindings\"]:\n",
    "            dob = results[\"results\"][\"bindings\"][0][\"dob\"][\"value\"]\n",
    "            # Remove the time part\n",
    "            dob = dob.split('T')[0]\n",
    "            return dob\n",
    "        else:\n",
    "            return None\n",
    "    except Exception as e:\n",
    "        print(f\"Error fetching data for {name}: {e}\")\n",
    "        return None\n",
    "\n",
    "def calculate_age(dob):\n",
    "    birth_date = datetime.strptime(dob, '%Y-%m-%d')\n",
    "    today = datetime.today()\n",
    "    age = today.year - birth_date.year - ((today.month, today.day) < (birth_date.month, birth_date.day))\n",
    "    return age\n",
    "\n",
    "def update_csv(input_file, output_file, name_column):\n",
    "    # Read the existing CSV file with the correct encoding\n",
    "    df = pd.read_csv(input_file, encoding='latin1')\n",
    "    \n",
    "    # Create a new column for dates of birth\n",
    "    df['Date of Birth'] = df[name_column].apply(fetch_dob)\n",
    "    \n",
    "    # Filter out players not within the age range of 15 to 45\n",
    "    df['Age'] = df['Date of Birth'].apply(lambda x: calculate_age(x) if pd.notnull(x) else None)\n",
    "    df_filtered = df[(df['Age'] >= 9) & (df['Age'] <= 51)]\n",
    "    \n",
    "    # Drop the 'Age' column as it's no longer needed\n",
    "    df_filtered.drop(columns=['Age'], inplace=True)\n",
    "    \n",
    "    # Save the updated dataframe to the same CSV file\n",
    "    df_filtered.to_csv(output_file, index=False)\n",
    "\n",
    "# Specify the input and output file names and the correct name column\n",
    "input_file = 'players_2016_with_dob.csv'  \n",
    "output_file = 'players_2016_with_dob.csv' \n",
    "name_column = 'name'  \n",
    "\n",
    "# Update the CSV file\n",
    "update_csv(input_file, output_file, name_column)\n"
   ]
  }
 ],
 "metadata": {
  "kernelspec": {
   "display_name": "base",
   "language": "python",
   "name": "python3"
  },
  "language_info": {
   "codemirror_mode": {
    "name": "ipython",
    "version": 3
   },
   "file_extension": ".py",
   "mimetype": "text/x-python",
   "name": "python",
   "nbconvert_exporter": "python",
   "pygments_lexer": "ipython3",
   "version": "3.12.2"
  }
 },
 "nbformat": 4,
 "nbformat_minor": 2
}
